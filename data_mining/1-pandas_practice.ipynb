{
 "cells": [
  {
   "cell_type": "code",
   "execution_count": 1,
   "metadata": {},
   "outputs": [],
   "source": [
    "%matplotlib inline\n",
    "\n",
    "import numpy as np\n",
    "import pylab as plt\n",
    "import pandas as pd"
   ]
  },
  {
   "cell_type": "code",
   "execution_count": 3,
   "metadata": {},
   "outputs": [
    {
     "name": "stdout",
     "output_type": "stream",
     "text": [
      "2014_world_gdp_with_codes.csv  international-airline-passengers.csv\r\n",
      "Data.csv\t\t       maternal_health.csv\r\n",
      "diabetes.csv\t\t       migrants.csv\r\n",
      "disease.csv\t\t       monthly-milk-production-pounds.csv\r\n",
      "earthquake.csv\t\t       significant-earthquakes.csv\r\n",
      "gapminderDataFiveYear.csv      su5m.csv\r\n",
      "house_rental_data.csv.txt      tesla-stock-price.csv\r\n"
     ]
    }
   ],
   "source": [
    "!ls ./datasets/"
   ]
  },
  {
   "cell_type": "code",
   "execution_count": 5,
   "metadata": {},
   "outputs": [
    {
     "data": {
      "text/html": [
       "<div>\n",
       "<style scoped>\n",
       "    .dataframe tbody tr th:only-of-type {\n",
       "        vertical-align: middle;\n",
       "    }\n",
       "\n",
       "    .dataframe tbody tr th {\n",
       "        vertical-align: top;\n",
       "    }\n",
       "\n",
       "    .dataframe thead th {\n",
       "        text-align: right;\n",
       "    }\n",
       "</style>\n",
       "<table border=\"1\" class=\"dataframe\">\n",
       "  <thead>\n",
       "    <tr style=\"text-align: right;\">\n",
       "      <th></th>\n",
       "      <th>date</th>\n",
       "      <th>close</th>\n",
       "      <th>volume</th>\n",
       "      <th>open</th>\n",
       "      <th>high</th>\n",
       "      <th>low</th>\n",
       "    </tr>\n",
       "  </thead>\n",
       "  <tbody>\n",
       "    <tr>\n",
       "      <th>0</th>\n",
       "      <td>11:34</td>\n",
       "      <td>270.49</td>\n",
       "      <td>4,787,699</td>\n",
       "      <td>264.50</td>\n",
       "      <td>273.88</td>\n",
       "      <td>262.2400</td>\n",
       "    </tr>\n",
       "    <tr>\n",
       "      <th>1</th>\n",
       "      <td>2018/10/15</td>\n",
       "      <td>259.59</td>\n",
       "      <td>6189026.0000</td>\n",
       "      <td>259.06</td>\n",
       "      <td>263.28</td>\n",
       "      <td>254.5367</td>\n",
       "    </tr>\n",
       "    <tr>\n",
       "      <th>2</th>\n",
       "      <td>2018/10/12</td>\n",
       "      <td>258.78</td>\n",
       "      <td>7189257.0000</td>\n",
       "      <td>261.00</td>\n",
       "      <td>261.99</td>\n",
       "      <td>252.0100</td>\n",
       "    </tr>\n",
       "    <tr>\n",
       "      <th>3</th>\n",
       "      <td>2018/10/11</td>\n",
       "      <td>252.23</td>\n",
       "      <td>8128184.0000</td>\n",
       "      <td>257.53</td>\n",
       "      <td>262.25</td>\n",
       "      <td>249.0300</td>\n",
       "    </tr>\n",
       "    <tr>\n",
       "      <th>4</th>\n",
       "      <td>2018/10/10</td>\n",
       "      <td>256.88</td>\n",
       "      <td>12781560.0000</td>\n",
       "      <td>264.61</td>\n",
       "      <td>265.51</td>\n",
       "      <td>247.7700</td>\n",
       "    </tr>\n",
       "  </tbody>\n",
       "</table>\n",
       "</div>"
      ],
      "text/plain": [
       "         date   close         volume    open    high       low\n",
       "0       11:34  270.49      4,787,699  264.50  273.88  262.2400\n",
       "1  2018/10/15  259.59   6189026.0000  259.06  263.28  254.5367\n",
       "2  2018/10/12  258.78   7189257.0000  261.00  261.99  252.0100\n",
       "3  2018/10/11  252.23   8128184.0000  257.53  262.25  249.0300\n",
       "4  2018/10/10  256.88  12781560.0000  264.61  265.51  247.7700"
      ]
     },
     "execution_count": 5,
     "metadata": {},
     "output_type": "execute_result"
    }
   ],
   "source": [
    "dftesla = pd.read_csv('./datasets/tesla-stock-price.csv')\n",
    "dftesla.head()"
   ]
  },
  {
   "cell_type": "code",
   "execution_count": 6,
   "metadata": {},
   "outputs": [],
   "source": [
    "x = dftesla['date'].values\n",
    "y = dftesla['close'].values\n",
    "z = dftesla['open'].values"
   ]
  },
  {
   "cell_type": "code",
   "execution_count": 7,
   "metadata": {},
   "outputs": [],
   "source": [
    "# dftesla.plot('date','close')\n",
    "\n",
    "# plt.locator_params(axis='x', nbins=5)\n",
    "# plt.xticks(rotation=90)"
   ]
  },
  {
   "cell_type": "code",
   "execution_count": 10,
   "metadata": {},
   "outputs": [
    {
     "data": {
      "text/plain": [
       "[<matplotlib.lines.Line2D at 0x7fda371ace10>]"
      ]
     },
     "execution_count": 10,
     "metadata": {},
     "output_type": "execute_result"
    },
    {
     "data": {
      "image/png": "[encoded data removed]",
      "text/plain": [
       "<Figure size 1440x288 with 1 Axes>"
      ]
     },
     "metadata": {
      "needs_background": "light"
     },
     "output_type": "display_data"
    }
   ],
   "source": [
    "f, ax = plt.subplots(figsize=(20,4))\n",
    "ax.plot(x,y,'b')\n",
    "# ax.plot(x,z,'r')\n",
    "ax.set_xticks(x[::150]);\n",
    "plt.xticks(rotation=90)\n",
    "\n",
    "ax.plot(np.arange(len(x)),np.zeros(len(x))+300,'k--')\n"
   ]
  },
  {
   "cell_type": "code",
   "execution_count": 12,
   "metadata": {},
   "outputs": [
    {
     "data": {
      "text/html": [
       "<div>\n",
       "<style scoped>\n",
       "    .dataframe tbody tr th:only-of-type {\n",
       "        vertical-align: middle;\n",
       "    }\n",
       "\n",
       "    .dataframe tbody tr th {\n",
       "        vertical-align: top;\n",
       "    }\n",
       "\n",
       "    .dataframe thead th {\n",
       "        text-align: right;\n",
       "    }\n",
       "</style>\n",
       "<table border=\"1\" class=\"dataframe\">\n",
       "  <thead>\n",
       "    <tr style=\"text-align: right;\">\n",
       "      <th></th>\n",
       "      <th>Month</th>\n",
       "      <th>Monthly milk production (pounds per cow)</th>\n",
       "    </tr>\n",
       "  </thead>\n",
       "  <tbody>\n",
       "    <tr>\n",
       "      <th>0</th>\n",
       "      <td>1962-01</td>\n",
       "      <td>589</td>\n",
       "    </tr>\n",
       "    <tr>\n",
       "      <th>1</th>\n",
       "      <td>1962-02</td>\n",
       "      <td>561</td>\n",
       "    </tr>\n",
       "    <tr>\n",
       "      <th>2</th>\n",
       "      <td>1962-03</td>\n",
       "      <td>640</td>\n",
       "    </tr>\n",
       "    <tr>\n",
       "      <th>3</th>\n",
       "      <td>1962-04</td>\n",
       "      <td>656</td>\n",
       "    </tr>\n",
       "    <tr>\n",
       "      <th>4</th>\n",
       "      <td>1962-05</td>\n",
       "      <td>727</td>\n",
       "    </tr>\n",
       "  </tbody>\n",
       "</table>\n",
       "</div>"
      ],
      "text/plain": [
       "     Month  Monthly milk production (pounds per cow)\n",
       "0  1962-01                                       589\n",
       "1  1962-02                                       561\n",
       "2  1962-03                                       640\n",
       "3  1962-04                                       656\n",
       "4  1962-05                                       727"
      ]
     },
     "execution_count": 12,
     "metadata": {},
     "output_type": "execute_result"
    }
   ],
   "source": [
    "df = pd.read_csv('./datasets/monthly-milk-production-pounds.csv')\n",
    "df.head()"
   ]
  },
  {
   "cell_type": "code",
   "execution_count": 16,
   "metadata": {},
   "outputs": [
    {
     "data": {
      "text/plain": [
       "(array([  0.,  20.,  40.,  60.,  80., 100., 120., 140., 160., 180.]),\n",
       " <a list of 10 Text xticklabel objects>)"
      ]
     },
     "execution_count": 16,
     "metadata": {},
     "output_type": "execute_result"
    },
    {
     "data": {
      "image/png": "[encoded data removed]",
      "text/plain": [
       "<Figure size 432x288 with 1 Axes>"
      ]
     },
     "metadata": {
      "needs_background": "light"
     },
     "output_type": "display_data"
    }
   ],
   "source": [
    "df.plot('Month','Monthly milk production (pounds per cow)'\n",
    "        , kind='line')\n",
    "ax.set_xticks(x[::150]);\n",
    "plt.xticks(rotation=90)\n",
    "# plt.xlim(0,30)"
   ]
  },
  {
   "cell_type": "code",
   "execution_count": 17,
   "metadata": {},
   "outputs": [
    {
     "name": "stdout",
     "output_type": "stream",
     "text": [
      "Index(['Entity', 'Code', 'Year',\n",
      "       'Number of significant earthquakes (significant earthquakes)'],\n",
      "      dtype='object')\n",
      "Index(['Entity', 'Code', 'Year', 'sig'], dtype='object')\n"
     ]
    }
   ],
   "source": [
    "dfeq = pd.read_csv('./datasets/significant-earthquakes.csv')\n",
    "print(dfeq.columns)\n",
    "dfeq = dfeq.rename(columns={'Number of significant earthquakes (significant earthquakes)':'sig'})\n",
    "print(dfeq.columns)"
   ]
  },
  {
   "cell_type": "code",
   "execution_count": 20,
   "metadata": {},
   "outputs": [],
   "source": [
    "dfeq[(dfeq['Entity']=='Iran') & (dfeq['sig']!=0)];"
   ]
  },
  {
   "cell_type": "code",
   "execution_count": 21,
   "metadata": {},
   "outputs": [
    {
     "data": {
      "text/plain": [
       "<matplotlib.axes._subplots.AxesSubplot at 0x7fda3529c2e8>"
      ]
     },
     "execution_count": 21,
     "metadata": {},
     "output_type": "execute_result"
    },
    {
     "data": {
      "image/png": "[encoded data removed]",
      "text/plain": [
       "<Figure size 432x288 with 1 Axes>"
      ]
     },
     "metadata": {
      "needs_background": "light"
     },
     "output_type": "display_data"
    }
   ],
   "source": [
    "dfy = dfeq.groupby('Year')\n",
    "dfy.mean().plot()\n"
   ]
  },
  {
   "cell_type": "code",
   "execution_count": 22,
   "metadata": {},
   "outputs": [],
   "source": [
    "igb = dfeq[dfeq['Entity']=='Iran'].groupby('Year').mean()"
   ]
  },
  {
   "cell_type": "code",
   "execution_count": 23,
   "metadata": {},
   "outputs": [
    {
     "data": {
      "text/plain": [
       "<matplotlib.axes._subplots.AxesSubplot at 0x7fda34c466a0>"
      ]
     },
     "execution_count": 23,
     "metadata": {},
     "output_type": "execute_result"
    },
    {
     "data": {
      "image/png": "[encoded data removed]",
      "text/plain": [
       "<Figure size 432x288 with 1 Axes>"
      ]
     },
     "metadata": {
      "needs_background": "light"
     },
     "output_type": "display_data"
    }
   ],
   "source": [
    "igb.plot()"
   ]
  },
  {
   "cell_type": "code",
   "execution_count": 25,
   "metadata": {},
   "outputs": [
    {
     "data": {
      "text/html": [
       "<div>\n",
       "<style scoped>\n",
       "    .dataframe tbody tr th:only-of-type {\n",
       "        vertical-align: middle;\n",
       "    }\n",
       "\n",
       "    .dataframe tbody tr th {\n",
       "        vertical-align: top;\n",
       "    }\n",
       "\n",
       "    .dataframe thead th {\n",
       "        text-align: right;\n",
       "    }\n",
       "</style>\n",
       "<table border=\"1\" class=\"dataframe\">\n",
       "  <thead>\n",
       "    <tr style=\"text-align: right;\">\n",
       "      <th></th>\n",
       "      <th>Unknown Number of Deaths</th>\n",
       "      <th>0 Deaths</th>\n",
       "      <th>1-50 Deaths</th>\n",
       "      <th>51-100 Deaths</th>\n",
       "      <th>101-1000 Deaths</th>\n",
       "      <th>&gt;1001 Deaths</th>\n",
       "      <th>Unknown Number of Deaths, lat</th>\n",
       "      <th>Unknown Number of Deaths, lon</th>\n",
       "      <th>0 Deaths, lat</th>\n",
       "      <th>0 Deaths, lon</th>\n",
       "      <th>1-50 Deaths, lat</th>\n",
       "      <th>1-50 Deaths, lon</th>\n",
       "      <th>51-100 Deaths, lat</th>\n",
       "      <th>51-100 Deaths, lon</th>\n",
       "      <th>101-1000 Deaths, lat</th>\n",
       "      <th>101-1000 Deaths, lon</th>\n",
       "      <th>&gt;1001 Deaths, lat</th>\n",
       "      <th>&gt;1001 Deaths, lon</th>\n",
       "    </tr>\n",
       "  </thead>\n",
       "  <tbody>\n",
       "    <tr>\n",
       "      <th>0</th>\n",
       "      <td>New Caledonia:  Noumea; Vanuatu:  Port-Vila, 1995</td>\n",
       "      <td>Solomon Islands:  Santa Cruz Islands; Vanuatu,...</td>\n",
       "      <td>Philippines:  Mindanao:  Talakag-Malaybalay, 1987</td>\n",
       "      <td>Switzerland, 1801</td>\n",
       "      <td>Switzerland, 1584</td>\n",
       "      <td>Philippines:  Mindanao:  S, 1976</td>\n",
       "      <td>-23.008</td>\n",
       "      <td>169.9</td>\n",
       "      <td>-12.584</td>\n",
       "      <td>166.676</td>\n",
       "      <td>8.047</td>\n",
       "      <td>125.410</td>\n",
       "      <td>46.900</td>\n",
       "      <td>8.600</td>\n",
       "      <td>46.3</td>\n",
       "      <td>7</td>\n",
       "      <td>6.292</td>\n",
       "      <td>124.09</td>\n",
       "    </tr>\n",
       "    <tr>\n",
       "      <th>1</th>\n",
       "      <td>Pakistan:  Battagram, 2015</td>\n",
       "      <td>Iran:  Western:  Masjed-E- Soleyman, 2003</td>\n",
       "      <td>Pakistan:  Quetta, Nushki, 1978</td>\n",
       "      <td>Venezuela:  Cariaco-Cumana, 1997</td>\n",
       "      <td>Switzerland, 1584</td>\n",
       "      <td>China:  Sichuan Province:  Kangding, 1725</td>\n",
       "      <td>34.658</td>\n",
       "      <td>73.302</td>\n",
       "      <td>31.953</td>\n",
       "      <td>49.209</td>\n",
       "      <td>29.926</td>\n",
       "      <td>66.302</td>\n",
       "      <td>10.598</td>\n",
       "      <td>-63.486</td>\n",
       "      <td>46.2</td>\n",
       "      <td>7</td>\n",
       "      <td>30.1</td>\n",
       "      <td>101.9</td>\n",
       "    </tr>\n",
       "    <tr>\n",
       "      <th>2</th>\n",
       "      <td>Peru, 1852</td>\n",
       "      <td>NaN</td>\n",
       "      <td>Tonga Trench, 1977</td>\n",
       "      <td>Peru:  Maca, Chivay, Yanque, 1991</td>\n",
       "      <td>El Salvador:  San Marcos, 1965</td>\n",
       "      <td>Iran:  Quchan, 1872</td>\n",
       "      <td>-12.1</td>\n",
       "      <td>-77.1</td>\n",
       "      <td>NaN</td>\n",
       "      <td>NaN</td>\n",
       "      <td>-22.878</td>\n",
       "      <td>-175.900</td>\n",
       "      <td>-15.679</td>\n",
       "      <td>-71.574</td>\n",
       "      <td>13.5</td>\n",
       "      <td>-89.3</td>\n",
       "      <td>37.3</td>\n",
       "      <td>58.3</td>\n",
       "    </tr>\n",
       "    <tr>\n",
       "      <th>3</th>\n",
       "      <td>Chile:  Southern, 1965</td>\n",
       "      <td>NaN</td>\n",
       "      <td>Honduras-Guatemala-El Salvador, 1982</td>\n",
       "      <td>Japan:  Off East Coast Of Honshu Island, 1968</td>\n",
       "      <td>China:  Sichuan Province, 1933</td>\n",
       "      <td>Iran:  Quchan, 1871</td>\n",
       "      <td>-42.9</td>\n",
       "      <td>-75.13</td>\n",
       "      <td>NaN</td>\n",
       "      <td>NaN</td>\n",
       "      <td>14.487</td>\n",
       "      <td>-89.121</td>\n",
       "      <td>40.800</td>\n",
       "      <td>143.200</td>\n",
       "      <td>29.5</td>\n",
       "      <td>102.5</td>\n",
       "      <td>37.3</td>\n",
       "      <td>58.3</td>\n",
       "    </tr>\n",
       "    <tr>\n",
       "      <th>4</th>\n",
       "      <td>Indonesia:  Banda Sea, 1925</td>\n",
       "      <td>NaN</td>\n",
       "      <td>China:  Gansu Province:  Tianzhu, 1990</td>\n",
       "      <td>China:  Shanxi Province:  Anyi, Gueheng, 1505</td>\n",
       "      <td>China:  Guizhou Province:  Qinglong, 1551</td>\n",
       "      <td>Iran:  Tabriz, 1779</td>\n",
       "      <td>-8</td>\n",
       "      <td>115</td>\n",
       "      <td>NaN</td>\n",
       "      <td>NaN</td>\n",
       "      <td>37.093</td>\n",
       "      <td>103.781</td>\n",
       "      <td>35.200</td>\n",
       "      <td>110.900</td>\n",
       "      <td>25.8</td>\n",
       "      <td>105.2</td>\n",
       "      <td>38</td>\n",
       "      <td>46.7</td>\n",
       "    </tr>\n",
       "  </tbody>\n",
       "</table>\n",
       "</div>"
      ],
      "text/plain": [
       "                            Unknown Number of Deaths  \\\n",
       "0  New Caledonia:  Noumea; Vanuatu:  Port-Vila, 1995   \n",
       "1                         Pakistan:  Battagram, 2015   \n",
       "2                                         Peru, 1852   \n",
       "3                             Chile:  Southern, 1965   \n",
       "4                        Indonesia:  Banda Sea, 1925   \n",
       "\n",
       "                                            0 Deaths  \\\n",
       "0  Solomon Islands:  Santa Cruz Islands; Vanuatu,...   \n",
       "1          Iran:  Western:  Masjed-E- Soleyman, 2003   \n",
       "2                                                NaN   \n",
       "3                                                NaN   \n",
       "4                                                NaN   \n",
       "\n",
       "                                         1-50 Deaths  \\\n",
       "0  Philippines:  Mindanao:  Talakag-Malaybalay, 1987   \n",
       "1                    Pakistan:  Quetta, Nushki, 1978   \n",
       "2                                 Tonga Trench, 1977   \n",
       "3               Honduras-Guatemala-El Salvador, 1982   \n",
       "4             China:  Gansu Province:  Tianzhu, 1990   \n",
       "\n",
       "                                   51-100 Deaths  \\\n",
       "0                              Switzerland, 1801   \n",
       "1               Venezuela:  Cariaco-Cumana, 1997   \n",
       "2              Peru:  Maca, Chivay, Yanque, 1991   \n",
       "3  Japan:  Off East Coast Of Honshu Island, 1968   \n",
       "4  China:  Shanxi Province:  Anyi, Gueheng, 1505   \n",
       "\n",
       "                             101-1000 Deaths  \\\n",
       "0                          Switzerland, 1584   \n",
       "1                          Switzerland, 1584   \n",
       "2             El Salvador:  San Marcos, 1965   \n",
       "3             China:  Sichuan Province, 1933   \n",
       "4  China:  Guizhou Province:  Qinglong, 1551   \n",
       "\n",
       "                                >1001 Deaths Unknown Number of Deaths, lat  \\\n",
       "0           Philippines:  Mindanao:  S, 1976                       -23.008   \n",
       "1  China:  Sichuan Province:  Kangding, 1725                        34.658   \n",
       "2                        Iran:  Quchan, 1872                         -12.1   \n",
       "3                        Iran:  Quchan, 1871                         -42.9   \n",
       "4                        Iran:  Tabriz, 1779                            -8   \n",
       "\n",
       "  Unknown Number of Deaths, lon  0 Deaths, lat  0 Deaths, lon  \\\n",
       "0                         169.9        -12.584        166.676   \n",
       "1                        73.302         31.953         49.209   \n",
       "2                         -77.1            NaN            NaN   \n",
       "3                        -75.13            NaN            NaN   \n",
       "4                           115            NaN            NaN   \n",
       "\n",
       "  1-50 Deaths, lat  1-50 Deaths, lon  51-100 Deaths, lat  51-100 Deaths, lon  \\\n",
       "0            8.047           125.410              46.900               8.600   \n",
       "1           29.926            66.302              10.598             -63.486   \n",
       "2          -22.878          -175.900             -15.679             -71.574   \n",
       "3           14.487           -89.121              40.800             143.200   \n",
       "4           37.093           103.781              35.200             110.900   \n",
       "\n",
       "  101-1000 Deaths, lat 101-1000 Deaths, lon >1001 Deaths, lat  \\\n",
       "0                 46.3                    7             6.292   \n",
       "1                 46.2                    7              30.1   \n",
       "2                 13.5                -89.3              37.3   \n",
       "3                 29.5                102.5              37.3   \n",
       "4                 25.8                105.2                38   \n",
       "\n",
       "  >1001 Deaths, lon  \n",
       "0            124.09  \n",
       "1             101.9  \n",
       "2              58.3  \n",
       "3              58.3  \n",
       "4              46.7  "
      ]
     },
     "execution_count": 25,
     "metadata": {},
     "output_type": "execute_result"
    }
   ],
   "source": [
    "df = pd.read_csv('./datasets/earthquake.csv')\n",
    "df.head()"
   ]
  },
  {
   "cell_type": "code",
   "execution_count": null,
   "metadata": {},
   "outputs": [],
   "source": []
  },
  {
   "cell_type": "code",
   "execution_count": 26,
   "metadata": {},
   "outputs": [
    {
     "name": "stdout",
     "output_type": "stream",
     "text": [
      "Index(['COUNTRY', 'GDP (BILLIONS)', 'CODE'], dtype='object')\n"
     ]
    },
    {
     "data": {
      "text/html": [
       "<div>\n",
       "<style scoped>\n",
       "    .dataframe tbody tr th:only-of-type {\n",
       "        vertical-align: middle;\n",
       "    }\n",
       "\n",
       "    .dataframe tbody tr th {\n",
       "        vertical-align: top;\n",
       "    }\n",
       "\n",
       "    .dataframe thead th {\n",
       "        text-align: right;\n",
       "    }\n",
       "</style>\n",
       "<table border=\"1\" class=\"dataframe\">\n",
       "  <thead>\n",
       "    <tr style=\"text-align: right;\">\n",
       "      <th></th>\n",
       "      <th>GDP (BILLIONS)</th>\n",
       "    </tr>\n",
       "  </thead>\n",
       "  <tbody>\n",
       "    <tr>\n",
       "      <th>count</th>\n",
       "      <td>222.000000</td>\n",
       "    </tr>\n",
       "    <tr>\n",
       "      <th>mean</th>\n",
       "      <td>352.637162</td>\n",
       "    </tr>\n",
       "    <tr>\n",
       "      <th>std</th>\n",
       "      <td>1464.855533</td>\n",
       "    </tr>\n",
       "    <tr>\n",
       "      <th>min</th>\n",
       "      <td>0.010000</td>\n",
       "    </tr>\n",
       "    <tr>\n",
       "      <th>25%</th>\n",
       "      <td>4.615000</td>\n",
       "    </tr>\n",
       "    <tr>\n",
       "      <th>50%</th>\n",
       "      <td>21.525000</td>\n",
       "    </tr>\n",
       "    <tr>\n",
       "      <th>75%</th>\n",
       "      <td>196.200000</td>\n",
       "    </tr>\n",
       "    <tr>\n",
       "      <th>max</th>\n",
       "      <td>17420.000000</td>\n",
       "    </tr>\n",
       "  </tbody>\n",
       "</table>\n",
       "</div>"
      ],
      "text/plain": [
       "       GDP (BILLIONS)\n",
       "count      222.000000\n",
       "mean       352.637162\n",
       "std       1464.855533\n",
       "min          0.010000\n",
       "25%          4.615000\n",
       "50%         21.525000\n",
       "75%        196.200000\n",
       "max      17420.000000"
      ]
     },
     "execution_count": 26,
     "metadata": {},
     "output_type": "execute_result"
    }
   ],
   "source": [
    "df1 = pd.read_csv('./datasets/2014_world_gdp_with_codes.csv')\n",
    "print(df1.columns)\n",
    "df1.describe()"
   ]
  },
  {
   "cell_type": "code",
   "execution_count": 27,
   "metadata": {},
   "outputs": [],
   "source": [
    "# df1[df1['GDP (BILLIONS)']<1]"
   ]
  },
  {
   "cell_type": "code",
   "execution_count": 28,
   "metadata": {},
   "outputs": [],
   "source": [
    "irangdp = df1[df1['COUNTRY']=='Iran']['GDP (BILLIONS)'].values[0]"
   ]
  },
  {
   "cell_type": "code",
   "execution_count": 29,
   "metadata": {},
   "outputs": [],
   "source": [
    "# df1[df1['GDP (BILLIONS)']>irangdp]"
   ]
  },
  {
   "cell_type": "code",
   "execution_count": 30,
   "metadata": {},
   "outputs": [
    {
     "data": {
      "text/html": [
       "<div>\n",
       "<style scoped>\n",
       "    .dataframe tbody tr th:only-of-type {\n",
       "        vertical-align: middle;\n",
       "    }\n",
       "\n",
       "    .dataframe tbody tr th {\n",
       "        vertical-align: top;\n",
       "    }\n",
       "\n",
       "    .dataframe thead th {\n",
       "        text-align: right;\n",
       "    }\n",
       "</style>\n",
       "<table border=\"1\" class=\"dataframe\">\n",
       "  <thead>\n",
       "    <tr style=\"text-align: right;\">\n",
       "      <th></th>\n",
       "      <th>COUNTRY</th>\n",
       "      <th>GDP (BILLIONS)</th>\n",
       "      <th>CODE</th>\n",
       "    </tr>\n",
       "  </thead>\n",
       "  <tbody>\n",
       "    <tr>\n",
       "      <th>211</th>\n",
       "      <td>United States</td>\n",
       "      <td>17420.0</td>\n",
       "      <td>USA</td>\n",
       "    </tr>\n",
       "    <tr>\n",
       "      <th>42</th>\n",
       "      <td>China</td>\n",
       "      <td>10360.0</td>\n",
       "      <td>CHN</td>\n",
       "    </tr>\n",
       "    <tr>\n",
       "      <th>101</th>\n",
       "      <td>Japan</td>\n",
       "      <td>4770.0</td>\n",
       "      <td>JPN</td>\n",
       "    </tr>\n",
       "    <tr>\n",
       "      <th>75</th>\n",
       "      <td>Germany</td>\n",
       "      <td>3820.0</td>\n",
       "      <td>DEU</td>\n",
       "    </tr>\n",
       "    <tr>\n",
       "      <th>70</th>\n",
       "      <td>France</td>\n",
       "      <td>2902.0</td>\n",
       "      <td>FRA</td>\n",
       "    </tr>\n",
       "  </tbody>\n",
       "</table>\n",
       "</div>"
      ],
      "text/plain": [
       "           COUNTRY  GDP (BILLIONS) CODE\n",
       "211  United States         17420.0  USA\n",
       "42           China         10360.0  CHN\n",
       "101          Japan          4770.0  JPN\n",
       "75         Germany          3820.0  DEU\n",
       "70          France          2902.0  FRA"
      ]
     },
     "execution_count": 30,
     "metadata": {},
     "output_type": "execute_result"
    }
   ],
   "source": [
    "df1.sort_values('GDP (BILLIONS)',ascending=0).head()"
   ]
  },
  {
   "cell_type": "code",
   "execution_count": 31,
   "metadata": {},
   "outputs": [],
   "source": [
    "gdps = df1.sort_values('GDP (BILLIONS)',ascending=0)['GDP (BILLIONS)'].values"
   ]
  },
  {
   "cell_type": "code",
   "execution_count": 32,
   "metadata": {},
   "outputs": [
    {
     "data": {
      "text/plain": [
       "(0, 3000)"
      ]
     },
     "execution_count": 32,
     "metadata": {},
     "output_type": "execute_result"
    },
    {
     "data": {
      "image/png": "[encoded data removed]",
      "text/plain": [
       "<Figure size 432x288 with 1 Axes>"
      ]
     },
     "metadata": {
      "needs_background": "light"
     },
     "output_type": "display_data"
    }
   ],
   "source": [
    "plt.plot(gdps)\n",
    "plt.ylim(0,3000)"
   ]
  },
  {
   "cell_type": "code",
   "execution_count": 33,
   "metadata": {},
   "outputs": [
    {
     "data": {
      "text/plain": [
       "(array([112.,  23.,  17.,   5.,   3.,   3.,   0.,   3.,   6.,   7.]),\n",
       " array([1.00000e-02, 2.46490e+01, 4.92880e+01, 7.39270e+01, 9.85660e+01,\n",
       "        1.23205e+02, 1.47844e+02, 1.72483e+02, 1.97122e+02, 2.21761e+02,\n",
       "        2.46400e+02]),\n",
       " <a list of 10 Patch objects>)"
      ]
     },
     "execution_count": 33,
     "metadata": {},
     "output_type": "execute_result"
    },
    {
     "data": {
      "image/png": "[encoded data removed]",
      "text/plain": [
       "<Figure size 432x288 with 1 Axes>"
      ]
     },
     "metadata": {
      "needs_background": "light"
     },
     "output_type": "display_data"
    }
   ],
   "source": [
    "gdps = gdps[gdps<250]\n",
    "plt.hist(gdps)"
   ]
  },
  {
   "cell_type": "code",
   "execution_count": null,
   "metadata": {},
   "outputs": [],
   "source": []
  },
  {
   "cell_type": "code",
   "execution_count": 38,
   "metadata": {},
   "outputs": [
    {
     "name": "stdout",
     "output_type": "stream",
     "text": [
      "Index(['Unnamed: 0', 'ccode', 'country', 'number1000', 'percentarea',\n",
      "       'under18'],\n",
      "      dtype='object')\n"
     ]
    },
    {
     "data": {
      "text/html": [
       "<div>\n",
       "<style scoped>\n",
       "    .dataframe tbody tr th:only-of-type {\n",
       "        vertical-align: middle;\n",
       "    }\n",
       "\n",
       "    .dataframe tbody tr th {\n",
       "        vertical-align: top;\n",
       "    }\n",
       "\n",
       "    .dataframe thead th {\n",
       "        text-align: right;\n",
       "    }\n",
       "</style>\n",
       "<table border=\"1\" class=\"dataframe\">\n",
       "  <thead>\n",
       "    <tr style=\"text-align: right;\">\n",
       "      <th></th>\n",
       "      <th>Unnamed: 0</th>\n",
       "      <th>ccode</th>\n",
       "      <th>country</th>\n",
       "      <th>number1000</th>\n",
       "      <th>percentarea</th>\n",
       "      <th>under18</th>\n",
       "    </tr>\n",
       "  </thead>\n",
       "  <tbody>\n",
       "    <tr>\n",
       "      <th>188</th>\n",
       "      <td>188</td>\n",
       "      <td>USA</td>\n",
       "      <td>United States of America</td>\n",
       "      <td>49777</td>\n",
       "      <td>15.0</td>\n",
       "      <td>5</td>\n",
       "    </tr>\n",
       "    <tr>\n",
       "      <th>152</th>\n",
       "      <td>152</td>\n",
       "      <td>SAU</td>\n",
       "      <td>Saudi Arabia</td>\n",
       "      <td>12185</td>\n",
       "      <td>37.0</td>\n",
       "      <td>20</td>\n",
       "    </tr>\n",
       "    <tr>\n",
       "      <th>66</th>\n",
       "      <td>66</td>\n",
       "      <td>DEU</td>\n",
       "      <td>Germany</td>\n",
       "      <td>12165</td>\n",
       "      <td>15.0</td>\n",
       "      <td>5</td>\n",
       "    </tr>\n",
       "    <tr>\n",
       "      <th>144</th>\n",
       "      <td>144</td>\n",
       "      <td>RUS</td>\n",
       "      <td>Russian Federation</td>\n",
       "      <td>11652</td>\n",
       "      <td>8.0</td>\n",
       "      <td>6</td>\n",
       "    </tr>\n",
       "    <tr>\n",
       "      <th>186</th>\n",
       "      <td>186</td>\n",
       "      <td>GBR</td>\n",
       "      <td>United Kingdom of Great Britain and Northern I...</td>\n",
       "      <td>8842</td>\n",
       "      <td>13.0</td>\n",
       "      <td>8</td>\n",
       "    </tr>\n",
       "  </tbody>\n",
       "</table>\n",
       "</div>"
      ],
      "text/plain": [
       "     Unnamed: 0 ccode                                            country  \\\n",
       "188         188   USA                           United States of America   \n",
       "152         152   SAU                                       Saudi Arabia   \n",
       "66           66   DEU                                            Germany   \n",
       "144         144   RUS                                 Russian Federation   \n",
       "186         186   GBR  United Kingdom of Great Britain and Northern I...   \n",
       "\n",
       "     number1000  percentarea under18  \n",
       "188       49777         15.0       5  \n",
       "152       12185         37.0      20  \n",
       "66        12165         15.0       5  \n",
       "144       11652          8.0       6  \n",
       "186        8842         13.0       8  "
      ]
     },
     "execution_count": 38,
     "metadata": {},
     "output_type": "execute_result"
    }
   ],
   "source": [
    "df2 = pd.read_csv('./datasets/migrants.csv')\n",
    "print(df2.columns)\n",
    "df2.drop(columns=['Unnamed: 0','percentarea'])\n",
    "df2.sort_values('number1000',ascending=0).head()"
   ]
  },
  {
   "cell_type": "code",
   "execution_count": 35,
   "metadata": {},
   "outputs": [],
   "source": [
    "#merge "
   ]
  },
  {
   "cell_type": "code",
   "execution_count": 37,
   "metadata": {},
   "outputs": [
    {
     "data": {
      "text/html": [
       "<div>\n",
       "<style scoped>\n",
       "    .dataframe tbody tr th:only-of-type {\n",
       "        vertical-align: middle;\n",
       "    }\n",
       "\n",
       "    .dataframe tbody tr th {\n",
       "        vertical-align: top;\n",
       "    }\n",
       "\n",
       "    .dataframe thead th {\n",
       "        text-align: right;\n",
       "    }\n",
       "</style>\n",
       "<table border=\"1\" class=\"dataframe\">\n",
       "  <thead>\n",
       "    <tr style=\"text-align: right;\">\n",
       "      <th></th>\n",
       "      <th>Unnamed: 0</th>\n",
       "      <th>ccode</th>\n",
       "      <th>country</th>\n",
       "      <th>year</th>\n",
       "      <th>Total</th>\n",
       "      <th>age 15-17</th>\n",
       "      <th>age 18-19</th>\n",
       "      <th>&lt;20</th>\n",
       "      <th>&gt;20</th>\n",
       "      <th>age 20-34</th>\n",
       "      <th>age 35-49</th>\n",
       "    </tr>\n",
       "  </thead>\n",
       "  <tbody>\n",
       "    <tr>\n",
       "      <th>0</th>\n",
       "      <td>0</td>\n",
       "      <td>AFG</td>\n",
       "      <td>Afghanistan</td>\n",
       "      <td>2010.0</td>\n",
       "      <td>47.872012</td>\n",
       "      <td>48.292231</td>\n",
       "      <td>45.121149</td>\n",
       "      <td>45.634003</td>\n",
       "      <td>46.635823</td>\n",
       "      <td>46.702356</td>\n",
       "      <td>46.323971</td>\n",
       "    </tr>\n",
       "    <tr>\n",
       "      <th>1</th>\n",
       "      <td>1</td>\n",
       "      <td>ALB</td>\n",
       "      <td>Albania</td>\n",
       "      <td>2000.0</td>\n",
       "      <td>95.269887</td>\n",
       "      <td>100.000000</td>\n",
       "      <td>100.000000</td>\n",
       "      <td>100.000000</td>\n",
       "      <td>94.967483</td>\n",
       "      <td>95.399258</td>\n",
       "      <td>91.427947</td>\n",
       "    </tr>\n",
       "    <tr>\n",
       "      <th>2</th>\n",
       "      <td>2</td>\n",
       "      <td>ALB</td>\n",
       "      <td>Albania</td>\n",
       "      <td>2005.0</td>\n",
       "      <td>97.124568</td>\n",
       "      <td>100.000000</td>\n",
       "      <td>100.000000</td>\n",
       "      <td>100.000000</td>\n",
       "      <td>96.828206</td>\n",
       "      <td>97.107991</td>\n",
       "      <td>94.331780</td>\n",
       "    </tr>\n",
       "    <tr>\n",
       "      <th>3</th>\n",
       "      <td>3</td>\n",
       "      <td>ALB</td>\n",
       "      <td>Albania</td>\n",
       "      <td>2008.0</td>\n",
       "      <td>98.420840</td>\n",
       "      <td>92.577894</td>\n",
       "      <td>100.000000</td>\n",
       "      <td>97.778378</td>\n",
       "      <td>98.465574</td>\n",
       "      <td>98.467706</td>\n",
       "      <td>98.438906</td>\n",
       "    </tr>\n",
       "    <tr>\n",
       "      <th>4</th>\n",
       "      <td>4</td>\n",
       "      <td>ARG</td>\n",
       "      <td>Argentina</td>\n",
       "      <td>2012.0</td>\n",
       "      <td>98.070102</td>\n",
       "      <td>99.298196</td>\n",
       "      <td>98.597808</td>\n",
       "      <td>98.905995</td>\n",
       "      <td>97.936854</td>\n",
       "      <td>97.992949</td>\n",
       "      <td>97.707396</td>\n",
       "    </tr>\n",
       "  </tbody>\n",
       "</table>\n",
       "</div>"
      ],
      "text/plain": [
       "   Unnamed: 0 ccode      country    year     Total    age 15-17   age 18-19  \\\n",
       "0           0   AFG  Afghanistan  2010.0  47.872012   48.292231   45.121149   \n",
       "1           1   ALB      Albania  2000.0  95.269887  100.000000  100.000000   \n",
       "2           2   ALB      Albania  2005.0  97.124568  100.000000  100.000000   \n",
       "3           3   ALB      Albania  2008.0  98.420840   92.577894  100.000000   \n",
       "4           4   ARG    Argentina  2012.0  98.070102   99.298196   98.597808   \n",
       "\n",
       "          <20        >20  age 20-34  age 35-49  \n",
       "0   45.634003  46.635823  46.702356  46.323971  \n",
       "1  100.000000  94.967483  95.399258  91.427947  \n",
       "2  100.000000  96.828206  97.107991  94.331780  \n",
       "3   97.778378  98.465574  98.467706  98.438906  \n",
       "4   98.905995  97.936854  97.992949  97.707396  "
      ]
     },
     "execution_count": 37,
     "metadata": {},
     "output_type": "execute_result"
    }
   ],
   "source": [
    "df = pd.read_csv('./datasets/maternal_health.csv')\n",
    "df.head()"
   ]
  },
  {
   "cell_type": "code",
   "execution_count": 40,
   "metadata": {},
   "outputs": [
    {
     "data": {
      "text/html": [
       "<div>\n",
       "<style scoped>\n",
       "    .dataframe tbody tr th:only-of-type {\n",
       "        vertical-align: middle;\n",
       "    }\n",
       "\n",
       "    .dataframe tbody tr th {\n",
       "        vertical-align: top;\n",
       "    }\n",
       "\n",
       "    .dataframe thead th {\n",
       "        text-align: right;\n",
       "    }\n",
       "</style>\n",
       "<table border=\"1\" class=\"dataframe\">\n",
       "  <thead>\n",
       "    <tr style=\"text-align: right;\">\n",
       "      <th></th>\n",
       "      <th>country</th>\n",
       "      <th>year</th>\n",
       "      <th>pop</th>\n",
       "      <th>continent</th>\n",
       "      <th>lifeExp</th>\n",
       "      <th>gdpPercap</th>\n",
       "    </tr>\n",
       "  </thead>\n",
       "  <tbody>\n",
       "    <tr>\n",
       "      <th>0</th>\n",
       "      <td>Afghanistan</td>\n",
       "      <td>1952</td>\n",
       "      <td>8425333.0</td>\n",
       "      <td>Asia</td>\n",
       "      <td>28.801</td>\n",
       "      <td>779.445314</td>\n",
       "    </tr>\n",
       "    <tr>\n",
       "      <th>1</th>\n",
       "      <td>Afghanistan</td>\n",
       "      <td>1957</td>\n",
       "      <td>9240934.0</td>\n",
       "      <td>Asia</td>\n",
       "      <td>30.332</td>\n",
       "      <td>820.853030</td>\n",
       "    </tr>\n",
       "    <tr>\n",
       "      <th>2</th>\n",
       "      <td>Afghanistan</td>\n",
       "      <td>1962</td>\n",
       "      <td>10267083.0</td>\n",
       "      <td>Asia</td>\n",
       "      <td>31.997</td>\n",
       "      <td>853.100710</td>\n",
       "    </tr>\n",
       "    <tr>\n",
       "      <th>3</th>\n",
       "      <td>Afghanistan</td>\n",
       "      <td>1967</td>\n",
       "      <td>11537966.0</td>\n",
       "      <td>Asia</td>\n",
       "      <td>34.020</td>\n",
       "      <td>836.197138</td>\n",
       "    </tr>\n",
       "    <tr>\n",
       "      <th>4</th>\n",
       "      <td>Afghanistan</td>\n",
       "      <td>1972</td>\n",
       "      <td>13079460.0</td>\n",
       "      <td>Asia</td>\n",
       "      <td>36.088</td>\n",
       "      <td>739.981106</td>\n",
       "    </tr>\n",
       "  </tbody>\n",
       "</table>\n",
       "</div>"
      ],
      "text/plain": [
       "       country  year         pop continent  lifeExp   gdpPercap\n",
       "0  Afghanistan  1952   8425333.0      Asia   28.801  779.445314\n",
       "1  Afghanistan  1957   9240934.0      Asia   30.332  820.853030\n",
       "2  Afghanistan  1962  10267083.0      Asia   31.997  853.100710\n",
       "3  Afghanistan  1967  11537966.0      Asia   34.020  836.197138\n",
       "4  Afghanistan  1972  13079460.0      Asia   36.088  739.981106"
      ]
     },
     "execution_count": 40,
     "metadata": {},
     "output_type": "execute_result"
    }
   ],
   "source": [
    "df = pd.read_csv('./datasets/gapminderDataFiveYear.csv')\n",
    "df.head()\n",
    "#group"
   ]
  },
  {
   "cell_type": "code",
   "execution_count": 42,
   "metadata": {},
   "outputs": [
    {
     "data": {
      "text/html": [
       "<div>\n",
       "<style scoped>\n",
       "    .dataframe tbody tr th:only-of-type {\n",
       "        vertical-align: middle;\n",
       "    }\n",
       "\n",
       "    .dataframe tbody tr th {\n",
       "        vertical-align: top;\n",
       "    }\n",
       "\n",
       "    .dataframe thead th {\n",
       "        text-align: right;\n",
       "    }\n",
       "</style>\n",
       "<table border=\"1\" class=\"dataframe\">\n",
       "  <thead>\n",
       "    <tr style=\"text-align: right;\">\n",
       "      <th></th>\n",
       "      <th>Unnamed: 0</th>\n",
       "      <th>ccode</th>\n",
       "      <th>country</th>\n",
       "      <th>year</th>\n",
       "      <th>AIDS</th>\n",
       "      <th>Congenital</th>\n",
       "      <th>Diarrhoea</th>\n",
       "      <th>Injury</th>\n",
       "      <th>Intrapartum</th>\n",
       "      <th>Malaria</th>\n",
       "      <th>Measles</th>\n",
       "      <th>Meningitis</th>\n",
       "      <th>Pneumonia</th>\n",
       "      <th>Preterm</th>\n",
       "      <th>Sepsis</th>\n",
       "      <th>Tetanus</th>\n",
       "      <th>Other</th>\n",
       "      <th>Total</th>\n",
       "    </tr>\n",
       "  </thead>\n",
       "  <tbody>\n",
       "    <tr>\n",
       "      <th>0</th>\n",
       "      <td>0</td>\n",
       "      <td>AFG</td>\n",
       "      <td>Afghanistan</td>\n",
       "      <td>2017</td>\n",
       "      <td>0.0</td>\n",
       "      <td>6.4</td>\n",
       "      <td>7.8</td>\n",
       "      <td>5.8</td>\n",
       "      <td>15.9</td>\n",
       "      <td>0.1</td>\n",
       "      <td>1.8</td>\n",
       "      <td>3.4</td>\n",
       "      <td>14.9</td>\n",
       "      <td>19.2</td>\n",
       "      <td>8.4</td>\n",
       "      <td>1.6</td>\n",
       "      <td>14.7</td>\n",
       "      <td>100</td>\n",
       "    </tr>\n",
       "    <tr>\n",
       "      <th>1</th>\n",
       "      <td>1</td>\n",
       "      <td>ALB</td>\n",
       "      <td>Albania</td>\n",
       "      <td>2017</td>\n",
       "      <td>0.7</td>\n",
       "      <td>27.2</td>\n",
       "      <td>0.6</td>\n",
       "      <td>7.0</td>\n",
       "      <td>8.8</td>\n",
       "      <td>0.0</td>\n",
       "      <td>0.0</td>\n",
       "      <td>2.2</td>\n",
       "      <td>8.9</td>\n",
       "      <td>28.9</td>\n",
       "      <td>2.6</td>\n",
       "      <td>0.8</td>\n",
       "      <td>12.3</td>\n",
       "      <td>100</td>\n",
       "    </tr>\n",
       "    <tr>\n",
       "      <th>2</th>\n",
       "      <td>2</td>\n",
       "      <td>DZA</td>\n",
       "      <td>Algeria</td>\n",
       "      <td>2017</td>\n",
       "      <td>0.1</td>\n",
       "      <td>16.0</td>\n",
       "      <td>4.8</td>\n",
       "      <td>6.3</td>\n",
       "      <td>14.4</td>\n",
       "      <td>0.0</td>\n",
       "      <td>0.3</td>\n",
       "      <td>1.0</td>\n",
       "      <td>13.0</td>\n",
       "      <td>21.1</td>\n",
       "      <td>9.2</td>\n",
       "      <td>0.2</td>\n",
       "      <td>13.7</td>\n",
       "      <td>100</td>\n",
       "    </tr>\n",
       "    <tr>\n",
       "      <th>3</th>\n",
       "      <td>3</td>\n",
       "      <td>AND</td>\n",
       "      <td>Andorra</td>\n",
       "      <td>2017</td>\n",
       "      <td>0.0</td>\n",
       "      <td>16.7</td>\n",
       "      <td>0.0</td>\n",
       "      <td>0.0</td>\n",
       "      <td>0.0</td>\n",
       "      <td>0.0</td>\n",
       "      <td>0.0</td>\n",
       "      <td>0.0</td>\n",
       "      <td>0.0</td>\n",
       "      <td>66.7</td>\n",
       "      <td>0.0</td>\n",
       "      <td>0.0</td>\n",
       "      <td>16.7</td>\n",
       "      <td>100</td>\n",
       "    </tr>\n",
       "    <tr>\n",
       "      <th>4</th>\n",
       "      <td>4</td>\n",
       "      <td>AGO</td>\n",
       "      <td>Angola</td>\n",
       "      <td>2017</td>\n",
       "      <td>2.8</td>\n",
       "      <td>7.0</td>\n",
       "      <td>9.3</td>\n",
       "      <td>6.4</td>\n",
       "      <td>13.6</td>\n",
       "      <td>7.0</td>\n",
       "      <td>0.7</td>\n",
       "      <td>2.0</td>\n",
       "      <td>17.3</td>\n",
       "      <td>12.0</td>\n",
       "      <td>5.7</td>\n",
       "      <td>0.5</td>\n",
       "      <td>15.9</td>\n",
       "      <td>100</td>\n",
       "    </tr>\n",
       "  </tbody>\n",
       "</table>\n",
       "</div>"
      ],
      "text/plain": [
       "   Unnamed: 0 ccode      country  year  AIDS  Congenital  Diarrhoea  Injury  \\\n",
       "0           0   AFG  Afghanistan  2017   0.0         6.4        7.8     5.8   \n",
       "1           1   ALB      Albania  2017   0.7        27.2        0.6     7.0   \n",
       "2           2   DZA      Algeria  2017   0.1        16.0        4.8     6.3   \n",
       "3           3   AND      Andorra  2017   0.0        16.7        0.0     0.0   \n",
       "4           4   AGO       Angola  2017   2.8         7.0        9.3     6.4   \n",
       "\n",
       "   Intrapartum  Malaria  Measles  Meningitis  Pneumonia  Preterm  Sepsis  \\\n",
       "0         15.9      0.1      1.8         3.4       14.9     19.2     8.4   \n",
       "1          8.8      0.0      0.0         2.2        8.9     28.9     2.6   \n",
       "2         14.4      0.0      0.3         1.0       13.0     21.1     9.2   \n",
       "3          0.0      0.0      0.0         0.0        0.0     66.7     0.0   \n",
       "4         13.6      7.0      0.7         2.0       17.3     12.0     5.7   \n",
       "\n",
       "   Tetanus  Other  Total  \n",
       "0      1.6   14.7    100  \n",
       "1      0.8   12.3    100  \n",
       "2      0.2   13.7    100  \n",
       "3      0.0   16.7    100  \n",
       "4      0.5   15.9    100  "
      ]
     },
     "execution_count": 42,
     "metadata": {},
     "output_type": "execute_result"
    }
   ],
   "source": [
    "df = pd.read_csv('./datasets/disease.csv')\n",
    "df.head()\n",
    "#discribe, pie"
   ]
  },
  {
   "cell_type": "code",
   "execution_count": 43,
   "metadata": {},
   "outputs": [
    {
     "data": {
      "text/plain": [
       "Unnamed: 0    97.000000\n",
       "m1990         76.001026\n",
       "m2000         60.231282\n",
       "m2010         41.063590\n",
       "m2015         33.532308\n",
       "m2017         31.383077\n",
       "f1990         67.412821\n",
       "f2000         53.001026\n",
       "f2010         35.527692\n",
       "f2015         28.628205\n",
       "f2017         26.704615\n",
       "dtype: float64"
      ]
     },
     "execution_count": 43,
     "metadata": {},
     "output_type": "execute_result"
    }
   ],
   "source": [
    "df = pd.read_csv('./datasets/su5m.csv')\n",
    "df.mean()\n"
   ]
  },
  {
   "cell_type": "code",
   "execution_count": 44,
   "metadata": {},
   "outputs": [],
   "source": []
  },
  {
   "cell_type": "code",
   "execution_count": null,
   "metadata": {},
   "outputs": [],
   "source": []
  }
 ],
 "metadata": {
  "kernelspec": {
   "display_name": "Python 3",
   "language": "python",
   "name": "python3"
  },
  "language_info": {
   "codemirror_mode": {
    "name": "ipython",
    "version": 3
   },
   "file_extension": ".py",
   "mimetype": "text/x-python",
   "name": "python",
   "nbconvert_exporter": "python",
   "pygments_lexer": "ipython3",
   "version": "3.6.6"
  }
 },
 "nbformat": 4,
 "nbformat_minor": 2
}
