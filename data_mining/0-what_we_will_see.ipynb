{
 "cells": [
  {
   "cell_type": "markdown",
   "metadata": {},
   "source": [
    "# What we'll see:\n",
    "  - Introduction to pandas\n",
    "  - Preprocessing\n",
    "  - Regression\n",
    "  - Time series\n",
    "  - Machine learning\n",
    "  - Feature engineering\n",
    "  - Hyper parameter optimization, model validation\n",
    "  - Clustering\n",
    "  - Anomaly detection\n",
    "  - Neural networks"
   ]
  },
  {
   "cell_type": "markdown",
   "metadata": {},
   "source": [
    "Acknowledgement:\n",
    "- [Data science complete tutorial](https://github.com/zekelabs/data-science-complete-tutorial)\n",
    "- [10 steps to become a data scientist](https://github.com/mjbahmani/10-steps-to-become-a-data-scientist.git)\n",
    "- [Python data science handbook](https://github.com/jakevdp/PythonDataScienceHandbook.git)"
   ]
  },
  {
   "cell_type": "code",
   "execution_count": null,
   "metadata": {},
   "outputs": [],
   "source": []
  }
 ],
 "metadata": {
  "kernelspec": {
   "display_name": "Python 3",
   "language": "python",
   "name": "python3"
  },
  "language_info": {
   "codemirror_mode": {
    "name": "ipython",
    "version": 3
   },
   "file_extension": ".py",
   "mimetype": "text/x-python",
   "name": "python",
   "nbconvert_exporter": "python",
   "pygments_lexer": "ipython3",
   "version": "3.6.6"
  }
 },
 "nbformat": 4,
 "nbformat_minor": 2
}
